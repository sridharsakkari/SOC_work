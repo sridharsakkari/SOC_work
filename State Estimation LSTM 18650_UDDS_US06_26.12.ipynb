{
  "nbformat": 4,
  "nbformat_minor": 0,
  "metadata": {
    "colab": {
      "name": "State Estimation LSTM 18650_UDDS_US06 (1).ipynb",
      "provenance": [],
      "machine_shape": "hm",
      "include_colab_link": true
    },
    "accelerator": "GPU",
    "kernelspec": {
      "name": "python3",
      "display_name": "Python 3"
    }
  },
  "cells": [
    {
      "cell_type": "markdown",
      "metadata": {
        "id": "view-in-github",
        "colab_type": "text"
      },
      "source": [
        "<a href=\"https://colab.research.google.com/github/sridharsakkari/SOC_work/blob/main/State%20Estimation%20LSTM%2018650_UDDS_US06_26.12.ipynb\" target=\"_parent\"><img src=\"https://colab.research.google.com/assets/colab-badge.svg\" alt=\"Open In Colab\"/></a>"
      ]
    },
    {
      "cell_type": "code",
      "metadata": {
        "colab": {
          "base_uri": "https://localhost:8080/"
        },
        "id": "zMWKZKwH-R6d",
        "outputId": "d9533f2a-416c-4e42-a560-6da84c4ef455"
      },
      "source": [
        "!git clone https://github.com/sridharsakkari/SOC_work.git"
      ],
      "execution_count": 1,
      "outputs": [
        {
          "output_type": "stream",
          "text": [
            "Cloning into 'SOC_work'...\n",
            "remote: Enumerating objects: 21, done.\u001b[K\n",
            "remote: Counting objects: 100% (21/21), done.\u001b[K\n",
            "remote: Compressing objects: 100% (19/19), done.\u001b[K\n",
            "remote: Total 21 (delta 4), reused 0 (delta 0), pack-reused 0\u001b[K\n",
            "Unpacking objects: 100% (21/21), done.\n"
          ],
          "name": "stdout"
        }
      ]
    },
    {
      "cell_type": "code",
      "metadata": {
        "id": "uEfEQ8vj-KWf",
        "colab": {
          "base_uri": "https://localhost:8080/"
        },
        "outputId": "e024643a-45b4-49d2-e920-2eb710371c08"
      },
      "source": [
        "import numpy as np\n",
        "from numpy import mean,std\n",
        "from random import randint\n",
        "import pandas as pd\n",
        "\n",
        "import seaborn as sns\n",
        "\n",
        "import sklearn\n",
        "from sklearn.model_selection import train_test_split\n",
        "from sklearn.model_selection import KFold \n",
        "from sklearn import preprocessing\n",
        "from sklearn.metrics import confusion_matrix,precision_recall_fscore_support\n",
        "from sklearn.preprocessing import MinMaxScaler,PolynomialFeatures,RobustScaler\n",
        "from sklearn.linear_model import LinearRegression\n",
        "from sklearn.metrics import mean_squared_error,r2_score\n",
        "import statsmodels.api as sm\n",
        "from statsmodels.sandbox.regression.predstd import wls_prediction_std\n",
        "\n",
        "from keras.models import Sequential\n",
        "from keras.layers import Input,Dense,Conv2D,MaxPooling2D,Flatten,ZeroPadding2D,add,BatchNormalization,Activation,AveragePooling2D,Dropout\n",
        "from keras.layers import LSTM,Bidirectional\n",
        "from keras.datasets import mnist\n",
        "from keras.utils import to_categorical,plot_model\n",
        "from keras.optimizers import SGD,Adam\n",
        "\n",
        "from keras.models import load_model,Model\n",
        "from keras.backend import placeholder\n",
        "from keras.initializers import glorot_uniform\n",
        "#from keras.utils import multi_gpu_model\n",
        "from keras.metrics import RootMeanSquaredError\n",
        "from keras.callbacks import ModelCheckpoint, EarlyStopping\n",
        "\n",
        "import matplotlib.pyplot as plt\n",
        "import os\n",
        "plt.rcParams[\"figure.figsize\"] = (16,8)\n",
        "import plotly\n",
        "from plotly.express import line,scatter\n",
        "import warnings\n",
        "warnings.filterwarnings(\"ignore\")"
      ],
      "execution_count": 2,
      "outputs": [
        {
          "output_type": "stream",
          "text": [
            "/usr/local/lib/python3.6/dist-packages/statsmodels/tools/_testing.py:19: FutureWarning: pandas.util.testing is deprecated. Use the functions in the public API at pandas.testing instead.\n",
            "  import pandas.util.testing as tm\n"
          ],
          "name": "stderr"
        }
      ]
    },
    {
      "cell_type": "code",
      "metadata": {
        "id": "2MAzmY38-KWm"
      },
      "source": [
        "import scipy.io as sio\n",
        "\n",
        "data = sio.loadmat('/content/SOC_work/UDDS_0.mat')\n",
        "I = data['meas']['Current'][0][0]\n",
        "V= data['meas']['Voltage'][0][0]\n",
        "T = data['meas']['Battery_Temp_degC'][0][0]\n",
        "Ah = data['meas']['Ah'][0][0]\n",
        "\n",
        "UDDS_data_0 = pd.concat((pd.DataFrame(I),pd.DataFrame(V),pd.DataFrame(T),pd.DataFrame(Ah)),axis = 1)\n",
        "UDDS_data_0.columns = ['Strom','Spannung','Temperatur','Kapazitat']\n",
        "\n",
        "SoC = [1]\n",
        "for i in range(1,len(UDDS_data_0)):\n",
        "\n",
        "    SoC.append(SoC[i-1]+0.1*UDDS_data_0['Strom'].iloc[i-1]/(2.9*3600))\n",
        "\n",
        "\n",
        "UDDS_data_0['SoC'] = SoC\n",
        "\n",
        "\n",
        "data = sio.loadmat('/content/SOC_work/UDDS_10.mat')\n",
        "I = data['meas']['Current'][0][0]\n",
        "V= data['meas']['Voltage'][0][0]\n",
        "T = data['meas']['Battery_Temp_degC'][0][0]\n",
        "Ah = data['meas']['Ah'][0][0]\n",
        "\n",
        "UDDS_data_10 = pd.concat((pd.DataFrame(I),pd.DataFrame(V),pd.DataFrame(T),pd.DataFrame(Ah)),axis = 1)\n",
        "UDDS_data_10.columns = ['Strom','Spannung','Temperatur','Kapazitat']\n",
        "\n",
        "SoC = [1]\n",
        "for i in range(1,len(UDDS_data_10)):\n",
        "\n",
        "    SoC.append(SoC[i-1]+0.1*UDDS_data_10['Strom'].iloc[i-1]/(2.9*3600))\n",
        "\n",
        "\n",
        "UDDS_data_10['SoC'] = SoC\n",
        "\n",
        "\n",
        "\n",
        "data = sio.loadmat('/content/SOC_work/UDDS_25.mat')\n",
        "I = data['meas']['Current'][0][0]\n",
        "V= data['meas']['Voltage'][0][0]\n",
        "T = data['meas']['Battery_Temp_degC'][0][0]\n",
        "Ah = data['meas']['Ah'][0][0]\n",
        "\n",
        "UDDS_data_25 = pd.concat((pd.DataFrame(I),pd.DataFrame(V),pd.DataFrame(T),pd.DataFrame(Ah)),axis = 1)\n",
        "UDDS_data_25.columns = ['Strom','Spannung','Temperatur','Kapazitat']\n",
        "\n",
        "SoC = [1]\n",
        "for i in range(1,len(UDDS_data_25)):\n",
        "\n",
        "    SoC.append(SoC[i-1]+0.1*UDDS_data_25['Strom'].iloc[i-1]/(2.9*3600))\n",
        "\n",
        "\n",
        "UDDS_data_25['SoC'] = SoC\n",
        "\n",
        "\n",
        "\n",
        "#data = sio.loadmat('US06.mat')  \n",
        "#I = data['meas']['Current'][0][0]\n",
        "#V= data['meas']['Voltage'][0][0]\n",
        "#T = data['meas']['Battery_Temp_degC'][0][0]\n",
        "#Ah = data['meas']['Ah'][0][0]\n",
        "\n",
        "#US06_data = pd.concat((pd.DataFrame(I),pd.DataFrame(V),pd.DataFrame(T),pd.DataFrame(Ah)),axis = 1)\n",
        "#US06_data.columns = ['Strom','Spannung','Temperatur','Kapazitat']"
      ],
      "execution_count": 3,
      "outputs": []
    },
    {
      "cell_type": "code",
      "metadata": {
        "id": "hrOhiVA7ePd3"
      },
      "source": [
        "data = sio.loadmat('/content/SOC_work/US06_0.mat')\n",
        "I = data['meas']['Current'][0][0]\n",
        "V= data['meas']['Voltage'][0][0]\n",
        "T = data['meas']['Battery_Temp_degC'][0][0]\n",
        "Ah = data['meas']['Ah'][0][0]\n",
        "\n",
        "US06_data_0 = pd.concat((pd.DataFrame(I),pd.DataFrame(V),pd.DataFrame(T),pd.DataFrame(Ah)),axis = 1)\n",
        "US06_data_0.columns = ['Strom','Spannung','Temperatur','Kapazitat']\n",
        "\n",
        "SoC = [1]\n",
        "for i in range(1,len(US06_data_0)):\n",
        "\n",
        "    SoC.append(SoC[i-1]+0.1*US06_data_0['Strom'].iloc[i-1]/(2.9*3600))\n",
        "\n",
        "\n",
        "US06_data_0['SoC'] = SoC\n",
        "\n",
        "\n",
        "data = sio.loadmat('/content/SOC_work/US06_10.mat')\n",
        "I = data['meas']['Current'][0][0]\n",
        "V= data['meas']['Voltage'][0][0]\n",
        "T = data['meas']['Battery_Temp_degC'][0][0]\n",
        "Ah = data['meas']['Ah'][0][0]\n",
        "\n",
        "US06_data_10 = pd.concat((pd.DataFrame(I),pd.DataFrame(V),pd.DataFrame(T),pd.DataFrame(Ah)),axis = 1)\n",
        "US06_data_10.columns = ['Strom','Spannung','Temperatur','Kapazitat']\n",
        "\n",
        "SoC = [1]\n",
        "for i in range(1,len(US06_data_10)):\n",
        "\n",
        "    SoC.append(SoC[i-1]+0.1*US06_data_10['Strom'].iloc[i-1]/(2.9*3600))\n",
        "\n",
        "\n",
        "US06_data_10['SoC'] = SoC\n",
        "\n",
        "\n",
        "\n",
        "data = sio.loadmat('/content/SOC_work/US06_25.mat')\n",
        "I = data['meas']['Current'][0][0]\n",
        "V= data['meas']['Voltage'][0][0]\n",
        "T = data['meas']['Battery_Temp_degC'][0][0]\n",
        "Ah = data['meas']['Ah'][0][0]\n",
        "\n",
        "US06_data_25 = pd.concat((pd.DataFrame(I),pd.DataFrame(V),pd.DataFrame(T),pd.DataFrame(Ah)),axis = 1)\n",
        "US06_data_25.columns = ['Strom','Spannung','Temperatur','Kapazitat']\n",
        "\n",
        "SoC = [1]\n",
        "for i in range(1,len(US06_data_25)):\n",
        "\n",
        "    SoC.append(SoC[i-1]+0.1*US06_data_25['Strom'].iloc[i-1]/(2.9*3600))\n",
        "\n",
        "\n",
        "US06_data_25['SoC'] = SoC"
      ],
      "execution_count": 4,
      "outputs": []
    },
    {
      "cell_type": "code",
      "metadata": {
        "id": "l_SIaY_0fQtn"
      },
      "source": [
        "UDDS_data = pd.concat((UDDS_data_0,UDDS_data_10,UDDS_data_25),axis = 0)\n",
        "US06_data = pd.concat((US06_data_0,US06_data_10,US06_data_25),axis = 0)\n"
      ],
      "execution_count": 5,
      "outputs": []
    },
    {
      "cell_type": "code",
      "metadata": {
        "id": "22EJ_xe6-KWn"
      },
      "source": [
        "UDDS_data.to_csv('/content/SOC_work/UDDS_data.csv')\n",
        "US06_data.to_csv('/content/SOC_work/US06_data.csv')"
      ],
      "execution_count": null,
      "outputs": []
    },
    {
      "cell_type": "code",
      "metadata": {
        "colab": {
          "base_uri": "https://localhost:8080/"
        },
        "id": "23EDfB0M-KWn",
        "outputId": "353c18f5-b180-4201-b2c3-02bae55159ce"
      },
      "source": [
        "UDDS_data.info()"
      ],
      "execution_count": null,
      "outputs": [
        {
          "output_type": "stream",
          "text": [
            "<class 'pandas.core.frame.DataFrame'>\n",
            "Int64Index: 563174 entries, 0 to 224186\n",
            "Data columns (total 5 columns):\n",
            " #   Column      Non-Null Count   Dtype  \n",
            "---  ------      --------------   -----  \n",
            " 0   Strom       563174 non-null  float64\n",
            " 1   Spannung    563174 non-null  float64\n",
            " 2   Temperatur  563174 non-null  float64\n",
            " 3   Kapazitat   563174 non-null  float64\n",
            " 4   SoC         563174 non-null  float64\n",
            "dtypes: float64(5)\n",
            "memory usage: 25.8 MB\n"
          ],
          "name": "stdout"
        }
      ]
    },
    {
      "cell_type": "code",
      "metadata": {
        "colab": {
          "base_uri": "https://localhost:8080/"
        },
        "id": "ycTOr-gk-KWo",
        "outputId": "ed7c1673-4338-4973-f5c4-9ecb66dd64ec"
      },
      "source": [
        "UDDS_data.pop('Kapazitat')"
      ],
      "execution_count": 6,
      "outputs": [
        {
          "output_type": "execute_result",
          "data": {
            "text/plain": [
              "0        -0.00000\n",
              "1        -0.00000\n",
              "2        -0.00000\n",
              "3        -0.00000\n",
              "4        -0.00001\n",
              "           ...   \n",
              "224182   -2.70149\n",
              "224183   -2.70149\n",
              "224184   -2.70149\n",
              "224185   -2.70149\n",
              "224186   -2.70149\n",
              "Name: Kapazitat, Length: 563174, dtype: float64"
            ]
          },
          "metadata": {
            "tags": []
          },
          "execution_count": 6
        }
      ]
    },
    {
      "cell_type": "code",
      "metadata": {
        "colab": {
          "base_uri": "https://localhost:8080/",
          "height": 173
        },
        "id": "mT6AGYtW-KWo",
        "outputId": "2e453b96-5374-452a-84a2-340efa246de7"
      },
      "source": [
        "(UDDS_data.corr())"
      ],
      "execution_count": 7,
      "outputs": [
        {
          "output_type": "execute_result",
          "data": {
            "text/html": [
              "<div>\n",
              "<style scoped>\n",
              "    .dataframe tbody tr th:only-of-type {\n",
              "        vertical-align: middle;\n",
              "    }\n",
              "\n",
              "    .dataframe tbody tr th {\n",
              "        vertical-align: top;\n",
              "    }\n",
              "\n",
              "    .dataframe thead th {\n",
              "        text-align: right;\n",
              "    }\n",
              "</style>\n",
              "<table border=\"1\" class=\"dataframe\">\n",
              "  <thead>\n",
              "    <tr style=\"text-align: right;\">\n",
              "      <th></th>\n",
              "      <th>Strom</th>\n",
              "      <th>Spannung</th>\n",
              "      <th>Temperatur</th>\n",
              "      <th>SoC</th>\n",
              "    </tr>\n",
              "  </thead>\n",
              "  <tbody>\n",
              "    <tr>\n",
              "      <th>Strom</th>\n",
              "      <td>1.000000</td>\n",
              "      <td>0.244047</td>\n",
              "      <td>0.064130</td>\n",
              "      <td>0.000423</td>\n",
              "    </tr>\n",
              "    <tr>\n",
              "      <th>Spannung</th>\n",
              "      <td>0.244047</td>\n",
              "      <td>1.000000</td>\n",
              "      <td>0.052140</td>\n",
              "      <td>0.948257</td>\n",
              "    </tr>\n",
              "    <tr>\n",
              "      <th>Temperatur</th>\n",
              "      <td>0.064130</td>\n",
              "      <td>0.052140</td>\n",
              "      <td>1.000000</td>\n",
              "      <td>-0.101446</td>\n",
              "    </tr>\n",
              "    <tr>\n",
              "      <th>SoC</th>\n",
              "      <td>0.000423</td>\n",
              "      <td>0.948257</td>\n",
              "      <td>-0.101446</td>\n",
              "      <td>1.000000</td>\n",
              "    </tr>\n",
              "  </tbody>\n",
              "</table>\n",
              "</div>"
            ],
            "text/plain": [
              "               Strom  Spannung  Temperatur       SoC\n",
              "Strom       1.000000  0.244047    0.064130  0.000423\n",
              "Spannung    0.244047  1.000000    0.052140  0.948257\n",
              "Temperatur  0.064130  0.052140    1.000000 -0.101446\n",
              "SoC         0.000423  0.948257   -0.101446  1.000000"
            ]
          },
          "metadata": {
            "tags": []
          },
          "execution_count": 7
        }
      ]
    },
    {
      "cell_type": "code",
      "metadata": {
        "id": "Z-a5ngqY-KWp"
      },
      "source": [
        ""
      ],
      "execution_count": null,
      "outputs": []
    },
    {
      "cell_type": "code",
      "metadata": {
        "id": "fTqXtCo_-KWp"
      },
      "source": [
        "n_i = 1 # timesteps\n",
        "features = len(UDDS_data.columns)\n",
        "n_o = 1 #prediction time step"
      ],
      "execution_count": 24,
      "outputs": []
    },
    {
      "cell_type": "code",
      "metadata": {
        "id": "dfli_tIX-KWp"
      },
      "source": [
        "#series to supervised series data\n",
        "\n",
        "def series2supervised(df,n_i,n_o):\n",
        "\n",
        "    n_vars = df.shape[1]\n",
        "\n",
        "    cols, names = list(),list()\n",
        "\n",
        "    for i in range(n_i,0,-1):\n",
        "\n",
        "        cols.append(df.shift(i))\n",
        "\n",
        "        names += [('var%d(t-%d)') %((j+1,i)) for j in range(n_vars)]\n",
        "\n",
        "    \n",
        "    for i in range(n_o):\n",
        "        cols.append(df.shift(i))\n",
        "\n",
        "    for j in range(n_vars):\n",
        "\n",
        "        for i in range(0,n_o):\n",
        "\n",
        "            if i== 0:\n",
        "                names+=[('var%d(t)') %(j+1)]\n",
        "\n",
        "            else:\n",
        "                names +=[('var%d(t+%d)')%((j+1,i))]\n",
        "\n",
        "    agg = pd.concat(cols,axis=1)\n",
        "    agg.columns = names\n",
        "\n",
        "    agg.dropna(inplace = True)\n",
        "\n",
        "\n",
        "    return names,agg\n",
        "\n",
        "    "
      ],
      "execution_count": 25,
      "outputs": []
    },
    {
      "cell_type": "code",
      "metadata": {
        "id": "6rtf9HW3-KWq"
      },
      "source": [
        "names,data_LSTM = series2supervised(UDDS_data,n_i,n_o)"
      ],
      "execution_count": 26,
      "outputs": []
    },
    {
      "cell_type": "code",
      "metadata": {
        "id": "pOZW4kru-KWq"
      },
      "source": [
        ""
      ],
      "execution_count": null,
      "outputs": []
    },
    {
      "cell_type": "code",
      "metadata": {
        "colab": {
          "base_uri": "https://localhost:8080/",
          "height": 419
        },
        "id": "Px21EE6o-KWq",
        "outputId": "bc7d95d4-b056-4c88-bb2e-a5712a97bfde"
      },
      "source": [
        "data_LSTM"
      ],
      "execution_count": 27,
      "outputs": [
        {
          "output_type": "execute_result",
          "data": {
            "text/html": [
              "<div>\n",
              "<style scoped>\n",
              "    .dataframe tbody tr th:only-of-type {\n",
              "        vertical-align: middle;\n",
              "    }\n",
              "\n",
              "    .dataframe tbody tr th {\n",
              "        vertical-align: top;\n",
              "    }\n",
              "\n",
              "    .dataframe thead th {\n",
              "        text-align: right;\n",
              "    }\n",
              "</style>\n",
              "<table border=\"1\" class=\"dataframe\">\n",
              "  <thead>\n",
              "    <tr style=\"text-align: right;\">\n",
              "      <th></th>\n",
              "      <th>var1(t-1)</th>\n",
              "      <th>var2(t-1)</th>\n",
              "      <th>var3(t-1)</th>\n",
              "      <th>var4(t-1)</th>\n",
              "      <th>var1(t)</th>\n",
              "      <th>var2(t)</th>\n",
              "      <th>var3(t)</th>\n",
              "      <th>var4(t)</th>\n",
              "    </tr>\n",
              "  </thead>\n",
              "  <tbody>\n",
              "    <tr>\n",
              "      <th>1</th>\n",
              "      <td>-0.01143</td>\n",
              "      <td>4.17416</td>\n",
              "      <td>0.550856</td>\n",
              "      <td>1.000000</td>\n",
              "      <td>-0.05063</td>\n",
              "      <td>4.17158</td>\n",
              "      <td>0.550856</td>\n",
              "      <td>1.000000</td>\n",
              "    </tr>\n",
              "    <tr>\n",
              "      <th>2</th>\n",
              "      <td>-0.05063</td>\n",
              "      <td>4.17158</td>\n",
              "      <td>0.550856</td>\n",
              "      <td>1.000000</td>\n",
              "      <td>-0.06125</td>\n",
              "      <td>4.17030</td>\n",
              "      <td>0.550856</td>\n",
              "      <td>0.999999</td>\n",
              "    </tr>\n",
              "    <tr>\n",
              "      <th>3</th>\n",
              "      <td>-0.06125</td>\n",
              "      <td>4.17030</td>\n",
              "      <td>0.550856</td>\n",
              "      <td>0.999999</td>\n",
              "      <td>-0.06533</td>\n",
              "      <td>4.16901</td>\n",
              "      <td>0.550856</td>\n",
              "      <td>0.999999</td>\n",
              "    </tr>\n",
              "    <tr>\n",
              "      <th>4</th>\n",
              "      <td>-0.06533</td>\n",
              "      <td>4.16901</td>\n",
              "      <td>0.550856</td>\n",
              "      <td>0.999999</td>\n",
              "      <td>-0.06615</td>\n",
              "      <td>4.16772</td>\n",
              "      <td>0.550856</td>\n",
              "      <td>0.999998</td>\n",
              "    </tr>\n",
              "    <tr>\n",
              "      <th>5</th>\n",
              "      <td>-0.06615</td>\n",
              "      <td>4.16772</td>\n",
              "      <td>0.550856</td>\n",
              "      <td>0.999998</td>\n",
              "      <td>-0.06615</td>\n",
              "      <td>4.16708</td>\n",
              "      <td>0.550856</td>\n",
              "      <td>0.999998</td>\n",
              "    </tr>\n",
              "    <tr>\n",
              "      <th>...</th>\n",
              "      <td>...</td>\n",
              "      <td>...</td>\n",
              "      <td>...</td>\n",
              "      <td>...</td>\n",
              "      <td>...</td>\n",
              "      <td>...</td>\n",
              "      <td>...</td>\n",
              "      <td>...</td>\n",
              "    </tr>\n",
              "    <tr>\n",
              "      <th>224182</th>\n",
              "      <td>0.00000</td>\n",
              "      <td>3.31605</td>\n",
              "      <td>26.269570</td>\n",
              "      <td>0.069974</td>\n",
              "      <td>0.00000</td>\n",
              "      <td>3.31605</td>\n",
              "      <td>26.269570</td>\n",
              "      <td>0.069974</td>\n",
              "    </tr>\n",
              "    <tr>\n",
              "      <th>224183</th>\n",
              "      <td>0.00000</td>\n",
              "      <td>3.31605</td>\n",
              "      <td>26.269570</td>\n",
              "      <td>0.069974</td>\n",
              "      <td>0.00000</td>\n",
              "      <td>3.31605</td>\n",
              "      <td>26.269570</td>\n",
              "      <td>0.069974</td>\n",
              "    </tr>\n",
              "    <tr>\n",
              "      <th>224184</th>\n",
              "      <td>0.00000</td>\n",
              "      <td>3.31605</td>\n",
              "      <td>26.269570</td>\n",
              "      <td>0.069974</td>\n",
              "      <td>0.00000</td>\n",
              "      <td>3.31605</td>\n",
              "      <td>26.269570</td>\n",
              "      <td>0.069974</td>\n",
              "    </tr>\n",
              "    <tr>\n",
              "      <th>224185</th>\n",
              "      <td>0.00000</td>\n",
              "      <td>3.31605</td>\n",
              "      <td>26.269570</td>\n",
              "      <td>0.069974</td>\n",
              "      <td>0.00000</td>\n",
              "      <td>3.31605</td>\n",
              "      <td>26.258360</td>\n",
              "      <td>0.069974</td>\n",
              "    </tr>\n",
              "    <tr>\n",
              "      <th>224186</th>\n",
              "      <td>0.00000</td>\n",
              "      <td>3.31605</td>\n",
              "      <td>26.258360</td>\n",
              "      <td>0.069974</td>\n",
              "      <td>0.00000</td>\n",
              "      <td>3.31605</td>\n",
              "      <td>26.258360</td>\n",
              "      <td>0.069974</td>\n",
              "    </tr>\n",
              "  </tbody>\n",
              "</table>\n",
              "<p>563173 rows × 8 columns</p>\n",
              "</div>"
            ],
            "text/plain": [
              "        var1(t-1)  var2(t-1)  var3(t-1)  ...  var2(t)    var3(t)   var4(t)\n",
              "1        -0.01143    4.17416   0.550856  ...  4.17158   0.550856  1.000000\n",
              "2        -0.05063    4.17158   0.550856  ...  4.17030   0.550856  0.999999\n",
              "3        -0.06125    4.17030   0.550856  ...  4.16901   0.550856  0.999999\n",
              "4        -0.06533    4.16901   0.550856  ...  4.16772   0.550856  0.999998\n",
              "5        -0.06615    4.16772   0.550856  ...  4.16708   0.550856  0.999998\n",
              "...           ...        ...        ...  ...      ...        ...       ...\n",
              "224182    0.00000    3.31605  26.269570  ...  3.31605  26.269570  0.069974\n",
              "224183    0.00000    3.31605  26.269570  ...  3.31605  26.269570  0.069974\n",
              "224184    0.00000    3.31605  26.269570  ...  3.31605  26.269570  0.069974\n",
              "224185    0.00000    3.31605  26.269570  ...  3.31605  26.258360  0.069974\n",
              "224186    0.00000    3.31605  26.258360  ...  3.31605  26.258360  0.069974\n",
              "\n",
              "[563173 rows x 8 columns]"
            ]
          },
          "metadata": {
            "tags": []
          },
          "execution_count": 27
        }
      ]
    },
    {
      "cell_type": "code",
      "metadata": {
        "id": "-aUO06-W-KWr"
      },
      "source": [
        "data_x = data_LSTM[data_LSTM.columns[:n_i*features+n_o-1]]\n",
        "data_y = data_LSTM[data_LSTM.columns[-n_o:]]"
      ],
      "execution_count": 28,
      "outputs": []
    },
    {
      "cell_type": "code",
      "metadata": {
        "id": "MykH7EpT-KWs"
      },
      "source": [
        "#split train and test data \n",
        "\n",
        "x_train,x_test,y_train,y_test = train_test_split(data_x,data_y,shuffle= False,test_size=0.3)"
      ],
      "execution_count": 29,
      "outputs": []
    },
    {
      "cell_type": "code",
      "metadata": {
        "id": "3ypQjTM1-KWs"
      },
      "source": [
        "x_val,x_test,y_val,y_test = train_test_split(x_test,y_test,shuffle=False,test_size = 0.5)"
      ],
      "execution_count": 30,
      "outputs": []
    },
    {
      "cell_type": "code",
      "metadata": {
        "id": "_7jnZ8oz-KWs",
        "colab": {
          "base_uri": "https://localhost:8080/",
          "height": 419
        },
        "outputId": "8d9329b4-32c9-44f0-fe7f-66ad5e007bd5"
      },
      "source": [
        "x_val"
      ],
      "execution_count": 31,
      "outputs": [
        {
          "output_type": "execute_result",
          "data": {
            "text/html": [
              "<div>\n",
              "<style scoped>\n",
              "    .dataframe tbody tr th:only-of-type {\n",
              "        vertical-align: middle;\n",
              "    }\n",
              "\n",
              "    .dataframe tbody tr th {\n",
              "        vertical-align: top;\n",
              "    }\n",
              "\n",
              "    .dataframe thead th {\n",
              "        text-align: right;\n",
              "    }\n",
              "</style>\n",
              "<table border=\"1\" class=\"dataframe\">\n",
              "  <thead>\n",
              "    <tr style=\"text-align: right;\">\n",
              "      <th></th>\n",
              "      <th>var1(t-1)</th>\n",
              "      <th>var2(t-1)</th>\n",
              "      <th>var3(t-1)</th>\n",
              "      <th>var4(t-1)</th>\n",
              "    </tr>\n",
              "  </thead>\n",
              "  <tbody>\n",
              "    <tr>\n",
              "      <th>55235</th>\n",
              "      <td>-0.47201</td>\n",
              "      <td>3.91617</td>\n",
              "      <td>25.84366</td>\n",
              "      <td>0.787191</td>\n",
              "    </tr>\n",
              "    <tr>\n",
              "      <th>55236</th>\n",
              "      <td>-0.55040</td>\n",
              "      <td>3.91359</td>\n",
              "      <td>25.84366</td>\n",
              "      <td>0.787186</td>\n",
              "    </tr>\n",
              "    <tr>\n",
              "      <th>55237</th>\n",
              "      <td>-0.58143</td>\n",
              "      <td>3.91231</td>\n",
              "      <td>25.84366</td>\n",
              "      <td>0.787181</td>\n",
              "    </tr>\n",
              "    <tr>\n",
              "      <th>55238</th>\n",
              "      <td>-0.58960</td>\n",
              "      <td>3.91166</td>\n",
              "      <td>25.84366</td>\n",
              "      <td>0.787175</td>\n",
              "    </tr>\n",
              "    <tr>\n",
              "      <th>55239</th>\n",
              "      <td>-0.59123</td>\n",
              "      <td>3.91166</td>\n",
              "      <td>25.84366</td>\n",
              "      <td>0.787170</td>\n",
              "    </tr>\n",
              "    <tr>\n",
              "      <th>...</th>\n",
              "      <td>...</td>\n",
              "      <td>...</td>\n",
              "      <td>...</td>\n",
              "      <td>...</td>\n",
              "    </tr>\n",
              "    <tr>\n",
              "      <th>139706</th>\n",
              "      <td>-1.00118</td>\n",
              "      <td>3.55717</td>\n",
              "      <td>26.05661</td>\n",
              "      <td>0.428015</td>\n",
              "    </tr>\n",
              "    <tr>\n",
              "      <th>139707</th>\n",
              "      <td>-1.00118</td>\n",
              "      <td>3.55717</td>\n",
              "      <td>26.05661</td>\n",
              "      <td>0.428006</td>\n",
              "    </tr>\n",
              "    <tr>\n",
              "      <th>139708</th>\n",
              "      <td>-1.00118</td>\n",
              "      <td>3.55717</td>\n",
              "      <td>26.05661</td>\n",
              "      <td>0.427996</td>\n",
              "    </tr>\n",
              "    <tr>\n",
              "      <th>139709</th>\n",
              "      <td>-1.00036</td>\n",
              "      <td>3.55717</td>\n",
              "      <td>26.05661</td>\n",
              "      <td>0.427987</td>\n",
              "    </tr>\n",
              "    <tr>\n",
              "      <th>139710</th>\n",
              "      <td>-1.00118</td>\n",
              "      <td>3.55717</td>\n",
              "      <td>26.05661</td>\n",
              "      <td>0.427977</td>\n",
              "    </tr>\n",
              "  </tbody>\n",
              "</table>\n",
              "<p>84476 rows × 4 columns</p>\n",
              "</div>"
            ],
            "text/plain": [
              "        var1(t-1)  var2(t-1)  var3(t-1)  var4(t-1)\n",
              "55235    -0.47201    3.91617   25.84366   0.787191\n",
              "55236    -0.55040    3.91359   25.84366   0.787186\n",
              "55237    -0.58143    3.91231   25.84366   0.787181\n",
              "55238    -0.58960    3.91166   25.84366   0.787175\n",
              "55239    -0.59123    3.91166   25.84366   0.787170\n",
              "...           ...        ...        ...        ...\n",
              "139706   -1.00118    3.55717   26.05661   0.428015\n",
              "139707   -1.00118    3.55717   26.05661   0.428006\n",
              "139708   -1.00118    3.55717   26.05661   0.427996\n",
              "139709   -1.00036    3.55717   26.05661   0.427987\n",
              "139710   -1.00118    3.55717   26.05661   0.427977\n",
              "\n",
              "[84476 rows x 4 columns]"
            ]
          },
          "metadata": {
            "tags": []
          },
          "execution_count": 31
        }
      ]
    },
    {
      "cell_type": "code",
      "metadata": {
        "id": "Zd6zpBDW-KWt"
      },
      "source": [
        "scaler = MinMaxScaler()\n",
        "x_train_scaled = scaler.fit_transform(x_train)\n",
        "x_test_scaled = scaler.fit_transform(x_test)\n",
        "x_val_scaled = scaler.fit_transform(x_val)\n",
        "\n",
        "y_train_scaled = scaler.fit_transform(np.array(y_train).reshape(-1,1))\n",
        "y_test_scaled = scaler.fit_transform(np.array(y_test).reshape(-1,1))\n",
        "y_val_scaled = scaler.fit_transform(np.array(y_val).reshape(-1,1))"
      ],
      "execution_count": 32,
      "outputs": []
    },
    {
      "cell_type": "code",
      "metadata": {
        "id": "NHDJUEZj-KWt"
      },
      "source": [
        "x_train_LSTM = x_train_scaled.reshape(x_train.shape[0],n_i,features)\n",
        "x_test_LSTM = x_test_scaled.reshape(x_test.shape[0],n_i,features)\n",
        "x_val_LSTM = x_val_scaled.reshape(x_val.shape[0],n_i,features)\n",
        "\n",
        "y_train_LSTM = y_train_scaled\n",
        "y_test_LSTM = y_test_scaled\n",
        "y_val_LSTM = y_val_scaled"
      ],
      "execution_count": 33,
      "outputs": []
    },
    {
      "cell_type": "code",
      "metadata": {
        "colab": {
          "base_uri": "https://localhost:8080/"
        },
        "id": "ZXl-E8-N-KWu",
        "outputId": "4a6c4dda-e1e1-4ab7-dd8c-18a1d2a39d54"
      },
      "source": [
        "x_train_LSTM.shape"
      ],
      "execution_count": 34,
      "outputs": [
        {
          "output_type": "execute_result",
          "data": {
            "text/plain": [
              "(394221, 1, 4)"
            ]
          },
          "metadata": {
            "tags": []
          },
          "execution_count": 34
        }
      ]
    },
    {
      "cell_type": "code",
      "metadata": {
        "id": "DLzczp8N-KWu"
      },
      "source": [
        "#convert data into LSTM data \n",
        "#def create_dataset(X, y, time_steps=1):#\n",
        "    #Xs, ys = [], []\n",
        "    #for i in range(len(X) - time_steps):\n",
        "        #v = X.iloc[i:(i + time_steps)].values\n",
        "        #Xs.append(v)        \n",
        "        #ys.append(y.iloc[i + time_steps])\n",
        "    #return np.array(Xs), np.array(ys)"
      ],
      "execution_count": null,
      "outputs": []
    },
    {
      "cell_type": "code",
      "metadata": {
        "colab": {
          "base_uri": "https://localhost:8080/",
          "height": 1000
        },
        "id": "tNUAAz-E-KWu",
        "outputId": "c4f9180f-0681-4aa2-e294-19e44b4214fd"
      },
      "source": [
        "def LSTM_model(X):\n",
        "    \n",
        "    np.random.seed(1)\n",
        "\n",
        "    X_i = Input(shape = (X.shape[1],X.shape[2]))\n",
        "    \n",
        "    X = Bidirectional(LSTM(256,activation = 'relu',kernel_initializer = 'glorot_uniform',return_sequences=True,input_shape=(X.shape[1:])))(X_i)\n",
        "    \n",
        "\n",
        "    X = Bidirectional(LSTM(256,activation = 'relu',kernel_initializer = 'glorot_uniform',return_sequences =True))(X)\n",
        "\n",
        "    #X = (LSTM(128,activation = 'relu',kernel_initializer = 'glorot_uniform',return_sequences =True))(X)\n",
        "\n",
        "    \n",
        "    X = Dropout(0.2)(X)\n",
        "    \n",
        "    X = Dense(50,activation='tanh',name='layer3')(X)\n",
        "    \n",
        "    X = Dense(10,activation='tanh',name='layer4')(X)\n",
        "    \n",
        "    X = Dense(1,activation= 'relu',name='layer5')(X)\n",
        "\n",
        "    model = Model(inputs = X_i,outputs = X)\n",
        "    \n",
        "    return model\n",
        "\n",
        "\n",
        "model = LSTM_model(x_train_LSTM)\n",
        "model.summary()\n",
        "#plot_model(model, show_shapes=True, to_file='LSTM_SoC.png')\n",
        "np.random.seed(1)\n",
        "model.compile(optimizer = Adam(lr=0.000001),loss = 'mse')\n",
        "es = EarlyStopping(monitor='val_loss', mode='min', verbose=2,patience=10)\n",
        "history = model.fit(x_train_LSTM,y_train_LSTM,batch_size = 64, epochs = 400,validation_data = (x_val_LSTM,y_val_LSTM),verbose = 2,shuffle = False,callbacks=[es])\n",
        "plt.plot(history.history['loss'],label ='train')\n",
        "plt.plot(history.history['val_loss'],label = 'val loss')\n",
        "\n",
        "model.save_weights(\"/content/SOC_work/model_26.12.h5\")"
      ],
      "execution_count": 37,
      "outputs": [
        {
          "output_type": "stream",
          "text": [
            "WARNING:tensorflow:Layer lstm_12 will not use cuDNN kernel since it doesn't meet the cuDNN kernel criteria. It will use generic GPU kernel as fallback when running on GPU\n",
            "WARNING:tensorflow:Layer lstm_12 will not use cuDNN kernel since it doesn't meet the cuDNN kernel criteria. It will use generic GPU kernel as fallback when running on GPU\n",
            "WARNING:tensorflow:Layer lstm_12 will not use cuDNN kernel since it doesn't meet the cuDNN kernel criteria. It will use generic GPU kernel as fallback when running on GPU\n",
            "WARNING:tensorflow:Layer lstm_13 will not use cuDNN kernel since it doesn't meet the cuDNN kernel criteria. It will use generic GPU kernel as fallback when running on GPU\n",
            "WARNING:tensorflow:Layer lstm_13 will not use cuDNN kernel since it doesn't meet the cuDNN kernel criteria. It will use generic GPU kernel as fallback when running on GPU\n",
            "WARNING:tensorflow:Layer lstm_13 will not use cuDNN kernel since it doesn't meet the cuDNN kernel criteria. It will use generic GPU kernel as fallback when running on GPU\n",
            "Model: \"model_4\"\n",
            "_________________________________________________________________\n",
            "Layer (type)                 Output Shape              Param #   \n",
            "=================================================================\n",
            "input_5 (InputLayer)         [(None, 1, 4)]            0         \n",
            "_________________________________________________________________\n",
            "bidirectional_8 (Bidirection (None, 1, 512)            534528    \n",
            "_________________________________________________________________\n",
            "bidirectional_9 (Bidirection (None, 1, 512)            1574912   \n",
            "_________________________________________________________________\n",
            "dropout_4 (Dropout)          (None, 1, 512)            0         \n",
            "_________________________________________________________________\n",
            "layer3 (Dense)               (None, 1, 50)             25650     \n",
            "_________________________________________________________________\n",
            "layer4 (Dense)               (None, 1, 10)             510       \n",
            "_________________________________________________________________\n",
            "layer5 (Dense)               (None, 1, 1)              11        \n",
            "=================================================================\n",
            "Total params: 2,135,611\n",
            "Trainable params: 2,135,611\n",
            "Non-trainable params: 0\n",
            "_________________________________________________________________\n",
            "Epoch 1/400\n",
            "6160/6160 - 62s - loss: 0.3026 - val_loss: 0.1484\n",
            "Epoch 2/400\n",
            "6160/6160 - 58s - loss: 0.1094 - val_loss: 0.0498\n",
            "Epoch 3/400\n",
            "6160/6160 - 58s - loss: 0.0443 - val_loss: 0.0374\n",
            "Epoch 4/400\n",
            "6160/6160 - 58s - loss: 0.0336 - val_loss: 0.0308\n",
            "Epoch 5/400\n",
            "6160/6160 - 58s - loss: 0.0265 - val_loss: 0.0240\n",
            "Epoch 6/400\n",
            "6160/6160 - 58s - loss: 0.0194 - val_loss: 0.0170\n",
            "Epoch 7/400\n",
            "6160/6160 - 58s - loss: 0.0125 - val_loss: 0.0105\n",
            "Epoch 8/400\n",
            "6160/6160 - 58s - loss: 0.0066 - val_loss: 0.0055\n",
            "Epoch 9/400\n",
            "6160/6160 - 58s - loss: 0.0027 - val_loss: 0.0030\n",
            "Epoch 10/400\n",
            "6160/6160 - 58s - loss: 0.0012 - val_loss: 0.0029\n",
            "Epoch 11/400\n",
            "6160/6160 - 58s - loss: 8.0541e-04 - val_loss: 0.0028\n",
            "Epoch 12/400\n",
            "6160/6160 - 58s - loss: 6.9534e-04 - val_loss: 0.0026\n",
            "Epoch 13/400\n",
            "6160/6160 - 58s - loss: 6.4367e-04 - val_loss: 0.0023\n",
            "Epoch 14/400\n",
            "6160/6160 - 58s - loss: 6.0348e-04 - val_loss: 0.0021\n",
            "Epoch 15/400\n",
            "6160/6160 - 58s - loss: 5.6518e-04 - val_loss: 0.0019\n",
            "Epoch 16/400\n",
            "6160/6160 - 58s - loss: 5.3694e-04 - val_loss: 0.0018\n",
            "Epoch 17/400\n",
            "6160/6160 - 58s - loss: 5.1534e-04 - val_loss: 0.0016\n",
            "Epoch 18/400\n",
            "6160/6160 - 58s - loss: 4.9426e-04 - val_loss: 0.0015\n",
            "Epoch 19/400\n",
            "6160/6160 - 58s - loss: 4.7408e-04 - val_loss: 0.0014\n",
            "Epoch 20/400\n",
            "6160/6160 - 58s - loss: 4.5560e-04 - val_loss: 0.0012\n",
            "Epoch 21/400\n",
            "6160/6160 - 58s - loss: 4.4050e-04 - val_loss: 0.0012\n",
            "Epoch 22/400\n",
            "6160/6160 - 58s - loss: 4.2798e-04 - val_loss: 0.0011\n",
            "Epoch 23/400\n",
            "6160/6160 - 58s - loss: 4.1529e-04 - val_loss: 0.0010\n",
            "Epoch 24/400\n",
            "6160/6160 - 58s - loss: 4.0204e-04 - val_loss: 9.7420e-04\n",
            "Epoch 25/400\n",
            "6160/6160 - 58s - loss: 3.9230e-04 - val_loss: 9.3562e-04\n",
            "Epoch 26/400\n",
            "6160/6160 - 58s - loss: 3.8637e-04 - val_loss: 9.0774e-04\n",
            "Epoch 27/400\n",
            "6160/6160 - 57s - loss: 3.7727e-04 - val_loss: 8.5740e-04\n",
            "Epoch 28/400\n",
            "6160/6160 - 58s - loss: 3.6863e-04 - val_loss: 7.9773e-04\n",
            "Epoch 29/400\n",
            "6160/6160 - 58s - loss: 3.6226e-04 - val_loss: 8.1704e-04\n",
            "Epoch 30/400\n",
            "6160/6160 - 58s - loss: 3.5626e-04 - val_loss: 7.7749e-04\n",
            "Epoch 31/400\n",
            "6160/6160 - 58s - loss: 3.4952e-04 - val_loss: 7.8382e-04\n",
            "Epoch 32/400\n",
            "6160/6160 - 58s - loss: 3.4186e-04 - val_loss: 7.6740e-04\n",
            "Epoch 33/400\n",
            "6160/6160 - 58s - loss: 3.3746e-04 - val_loss: 7.6962e-04\n",
            "Epoch 34/400\n",
            "6160/6160 - 58s - loss: 3.3235e-04 - val_loss: 7.7413e-04\n",
            "Epoch 35/400\n",
            "6160/6160 - 57s - loss: 3.2933e-04 - val_loss: 7.7425e-04\n",
            "Epoch 36/400\n",
            "6160/6160 - 58s - loss: 3.2343e-04 - val_loss: 7.4279e-04\n",
            "Epoch 37/400\n",
            "6160/6160 - 58s - loss: 3.1837e-04 - val_loss: 7.3493e-04\n",
            "Epoch 38/400\n",
            "6160/6160 - 58s - loss: 3.1418e-04 - val_loss: 7.2961e-04\n",
            "Epoch 39/400\n",
            "6160/6160 - 58s - loss: 3.0985e-04 - val_loss: 7.2596e-04\n",
            "Epoch 40/400\n",
            "6160/6160 - 58s - loss: 3.0503e-04 - val_loss: 7.0187e-04\n",
            "Epoch 41/400\n",
            "6160/6160 - 57s - loss: 3.0152e-04 - val_loss: 6.9746e-04\n",
            "Epoch 42/400\n",
            "6160/6160 - 58s - loss: 2.9794e-04 - val_loss: 6.8855e-04\n",
            "Epoch 43/400\n",
            "6160/6160 - 58s - loss: 2.9445e-04 - val_loss: 6.7607e-04\n",
            "Epoch 44/400\n",
            "6160/6160 - 58s - loss: 2.9053e-04 - val_loss: 6.8593e-04\n",
            "Epoch 45/400\n",
            "6160/6160 - 58s - loss: 2.8854e-04 - val_loss: 6.6744e-04\n",
            "Epoch 46/400\n",
            "6160/6160 - 58s - loss: 2.8600e-04 - val_loss: 6.7143e-04\n",
            "Epoch 47/400\n",
            "6160/6160 - 58s - loss: 2.8289e-04 - val_loss: 6.4767e-04\n",
            "Epoch 48/400\n",
            "6160/6160 - 58s - loss: 2.7757e-04 - val_loss: 6.3304e-04\n",
            "Epoch 49/400\n",
            "6160/6160 - 58s - loss: 2.7663e-04 - val_loss: 6.3025e-04\n",
            "Epoch 50/400\n",
            "6160/6160 - 58s - loss: 2.7247e-04 - val_loss: 6.2662e-04\n",
            "Epoch 51/400\n",
            "6160/6160 - 58s - loss: 2.6925e-04 - val_loss: 6.0225e-04\n",
            "Epoch 52/400\n",
            "6160/6160 - 58s - loss: 2.6695e-04 - val_loss: 5.7595e-04\n",
            "Epoch 53/400\n",
            "6160/6160 - 58s - loss: 2.6184e-04 - val_loss: 5.8448e-04\n",
            "Epoch 54/400\n",
            "6160/6160 - 58s - loss: 2.6146e-04 - val_loss: 5.6085e-04\n",
            "Epoch 55/400\n",
            "6160/6160 - 58s - loss: 2.5783e-04 - val_loss: 5.7444e-04\n",
            "Epoch 56/400\n",
            "6160/6160 - 58s - loss: 2.5589e-04 - val_loss: 5.6917e-04\n",
            "Epoch 57/400\n",
            "6160/6160 - 58s - loss: 2.5134e-04 - val_loss: 5.4514e-04\n",
            "Epoch 58/400\n",
            "6160/6160 - 58s - loss: 2.4894e-04 - val_loss: 5.4693e-04\n",
            "Epoch 59/400\n",
            "6160/6160 - 58s - loss: 2.4690e-04 - val_loss: 5.4667e-04\n",
            "Epoch 60/400\n",
            "6160/6160 - 58s - loss: 2.4450e-04 - val_loss: 5.1868e-04\n",
            "Epoch 61/400\n",
            "6160/6160 - 58s - loss: 2.4014e-04 - val_loss: 5.1667e-04\n",
            "Epoch 62/400\n",
            "6160/6160 - 58s - loss: 2.3768e-04 - val_loss: 4.8222e-04\n",
            "Epoch 63/400\n",
            "6160/6160 - 58s - loss: 2.3456e-04 - val_loss: 4.7165e-04\n",
            "Epoch 64/400\n",
            "6160/6160 - 58s - loss: 2.3169e-04 - val_loss: 4.6204e-04\n",
            "Epoch 65/400\n",
            "6160/6160 - 58s - loss: 2.2942e-04 - val_loss: 4.6691e-04\n",
            "Epoch 66/400\n",
            "6160/6160 - 58s - loss: 2.2782e-04 - val_loss: 4.5403e-04\n",
            "Epoch 67/400\n",
            "6160/6160 - 57s - loss: 2.2413e-04 - val_loss: 4.2818e-04\n",
            "Epoch 68/400\n",
            "6160/6160 - 58s - loss: 2.2176e-04 - val_loss: 4.3830e-04\n",
            "Epoch 69/400\n",
            "6160/6160 - 57s - loss: 2.1886e-04 - val_loss: 4.0039e-04\n",
            "Epoch 70/400\n",
            "6160/6160 - 58s - loss: 2.1631e-04 - val_loss: 3.8268e-04\n",
            "Epoch 71/400\n",
            "6160/6160 - 59s - loss: 2.1260e-04 - val_loss: 3.8531e-04\n",
            "Epoch 72/400\n",
            "6160/6160 - 58s - loss: 2.1074e-04 - val_loss: 3.4589e-04\n",
            "Epoch 73/400\n",
            "6160/6160 - 58s - loss: 2.0791e-04 - val_loss: 3.6641e-04\n",
            "Epoch 74/400\n",
            "6160/6160 - 58s - loss: 2.0655e-04 - val_loss: 3.5099e-04\n",
            "Epoch 75/400\n",
            "6160/6160 - 57s - loss: 2.0216e-04 - val_loss: 3.3534e-04\n",
            "Epoch 76/400\n",
            "6160/6160 - 58s - loss: 2.0097e-04 - val_loss: 3.2683e-04\n",
            "Epoch 77/400\n",
            "6160/6160 - 58s - loss: 1.9697e-04 - val_loss: 2.9986e-04\n",
            "Epoch 78/400\n",
            "6160/6160 - 57s - loss: 1.9482e-04 - val_loss: 2.9239e-04\n",
            "Epoch 79/400\n",
            "6160/6160 - 58s - loss: 1.9225e-04 - val_loss: 2.9715e-04\n",
            "Epoch 80/400\n",
            "6160/6160 - 58s - loss: 1.8935e-04 - val_loss: 2.7130e-04\n",
            "Epoch 81/400\n",
            "6160/6160 - 58s - loss: 1.8688e-04 - val_loss: 2.6040e-04\n",
            "Epoch 82/400\n",
            "6160/6160 - 58s - loss: 1.8407e-04 - val_loss: 2.4684e-04\n",
            "Epoch 83/400\n",
            "6160/6160 - 58s - loss: 1.8090e-04 - val_loss: 2.3233e-04\n",
            "Epoch 84/400\n",
            "6160/6160 - 57s - loss: 1.7956e-04 - val_loss: 2.4000e-04\n",
            "Epoch 85/400\n",
            "6160/6160 - 57s - loss: 1.7819e-04 - val_loss: 2.1876e-04\n",
            "Epoch 86/400\n",
            "6160/6160 - 58s - loss: 1.7457e-04 - val_loss: 2.1894e-04\n",
            "Epoch 87/400\n",
            "6160/6160 - 58s - loss: 1.7230e-04 - val_loss: 2.0195e-04\n",
            "Epoch 88/400\n",
            "6160/6160 - 58s - loss: 1.7154e-04 - val_loss: 2.0120e-04\n",
            "Epoch 89/400\n",
            "6160/6160 - 57s - loss: 1.6736e-04 - val_loss: 1.7929e-04\n",
            "Epoch 90/400\n",
            "6160/6160 - 57s - loss: 1.6627e-04 - val_loss: 1.6776e-04\n",
            "Epoch 91/400\n",
            "6160/6160 - 58s - loss: 1.6409e-04 - val_loss: 1.6471e-04\n",
            "Epoch 92/400\n",
            "6160/6160 - 58s - loss: 1.6259e-04 - val_loss: 1.5614e-04\n",
            "Epoch 93/400\n",
            "6160/6160 - 58s - loss: 1.6108e-04 - val_loss: 1.5298e-04\n",
            "Epoch 94/400\n",
            "6160/6160 - 57s - loss: 1.5898e-04 - val_loss: 1.5087e-04\n",
            "Epoch 95/400\n",
            "6160/6160 - 57s - loss: 1.5722e-04 - val_loss: 1.4762e-04\n",
            "Epoch 96/400\n",
            "6160/6160 - 58s - loss: 1.5568e-04 - val_loss: 1.3720e-04\n",
            "Epoch 97/400\n",
            "6160/6160 - 58s - loss: 1.5355e-04 - val_loss: 1.2330e-04\n",
            "Epoch 98/400\n",
            "6160/6160 - 59s - loss: 1.5198e-04 - val_loss: 1.2340e-04\n",
            "Epoch 99/400\n",
            "6160/6160 - 58s - loss: 1.5021e-04 - val_loss: 1.2356e-04\n",
            "Epoch 100/400\n",
            "6160/6160 - 58s - loss: 1.4963e-04 - val_loss: 1.1436e-04\n",
            "Epoch 101/400\n",
            "6160/6160 - 58s - loss: 1.4848e-04 - val_loss: 1.0603e-04\n",
            "Epoch 102/400\n",
            "6160/6160 - 58s - loss: 1.4714e-04 - val_loss: 1.1029e-04\n",
            "Epoch 103/400\n",
            "6160/6160 - 59s - loss: 1.4668e-04 - val_loss: 1.0822e-04\n",
            "Epoch 104/400\n",
            "6160/6160 - 57s - loss: 1.4478e-04 - val_loss: 1.0821e-04\n",
            "Epoch 105/400\n",
            "6160/6160 - 58s - loss: 1.4400e-04 - val_loss: 1.0248e-04\n",
            "Epoch 106/400\n",
            "6160/6160 - 58s - loss: 1.4313e-04 - val_loss: 1.0475e-04\n",
            "Epoch 107/400\n",
            "6160/6160 - 58s - loss: 1.4256e-04 - val_loss: 9.5004e-05\n",
            "Epoch 108/400\n",
            "6160/6160 - 58s - loss: 1.4124e-04 - val_loss: 1.0243e-04\n",
            "Epoch 109/400\n",
            "6160/6160 - 58s - loss: 1.4068e-04 - val_loss: 9.2970e-05\n",
            "Epoch 110/400\n",
            "6160/6160 - 57s - loss: 1.3942e-04 - val_loss: 9.3848e-05\n",
            "Epoch 111/400\n",
            "6160/6160 - 57s - loss: 1.3844e-04 - val_loss: 9.0662e-05\n",
            "Epoch 112/400\n",
            "6160/6160 - 57s - loss: 1.3805e-04 - val_loss: 9.1886e-05\n",
            "Epoch 113/400\n",
            "6160/6160 - 57s - loss: 1.3658e-04 - val_loss: 8.2944e-05\n",
            "Epoch 114/400\n",
            "6160/6160 - 58s - loss: 1.3579e-04 - val_loss: 8.9855e-05\n",
            "Epoch 115/400\n",
            "6160/6160 - 58s - loss: 1.3492e-04 - val_loss: 8.7307e-05\n",
            "Epoch 116/400\n",
            "6160/6160 - 58s - loss: 1.3510e-04 - val_loss: 8.8955e-05\n",
            "Epoch 117/400\n",
            "6160/6160 - 57s - loss: 1.3480e-04 - val_loss: 9.0267e-05\n",
            "Epoch 118/400\n",
            "6160/6160 - 58s - loss: 1.3377e-04 - val_loss: 8.3935e-05\n",
            "Epoch 119/400\n",
            "6160/6160 - 59s - loss: 1.3312e-04 - val_loss: 9.0368e-05\n",
            "Epoch 120/400\n",
            "6160/6160 - 58s - loss: 1.3258e-04 - val_loss: 8.8495e-05\n",
            "Epoch 121/400\n",
            "6160/6160 - 58s - loss: 1.3184e-04 - val_loss: 8.6383e-05\n",
            "Epoch 122/400\n",
            "6160/6160 - 58s - loss: 1.3083e-04 - val_loss: 9.0664e-05\n",
            "Epoch 123/400\n",
            "6160/6160 - 58s - loss: 1.2995e-04 - val_loss: 8.7905e-05\n",
            "Epoch 00123: early stopping\n"
          ],
          "name": "stdout"
        },
        {
          "output_type": "display_data",
          "data": {
            "image/png": "[encoded data removed]",
            "text/plain": [
              "<Figure size 1152x576 with 1 Axes>"
            ]
          },
          "metadata": {
            "tags": [],
            "needs_background": "light"
          }
        }
      ]
    },
    {
      "cell_type": "code",
      "metadata": {
        "colab": {
          "base_uri": "https://localhost:8080/"
        },
        "id": "O6MV0XBF-KWv",
        "outputId": "71919b63-4905-4272-8381-6a9360b2d8ed"
      },
      "source": [
        "predictions_train = model.predict(x_train_LSTM)\n",
        "R2 = r2_score(y_train_LSTM,predictions_train.reshape(-1,1))\n",
        "print(R2)\n",
        "\n",
        "\n",
        "predictions_val = model.predict(x_val_LSTM);\n",
        "R2 = r2_score(y_val_LSTM,predictions_val.reshape(-1,1))\n",
        "print(R2)\n",
        "\n",
        "predictions_test = model.predict(x_test_LSTM);\n",
        "R2 = r2_score(y_test_LSTM,predictions_test.reshape(-1,1))\n",
        "print(R2)"
      ],
      "execution_count": 38,
      "outputs": [
        {
          "output_type": "stream",
          "text": [
            "0.999400158162815\n",
            "0.9988702925328822\n",
            "0.9990832494473638\n"
          ],
          "name": "stdout"
        }
      ]
    },
    {
      "cell_type": "code",
      "metadata": {
        "id": "Ob50GuYz-KWw"
      },
      "source": [
        "test_sample= scaler.fit_transform(np.array([4.2,4.32,11]).reshape(1,-1)).reshape(1,1,3)\n",
        "test_op= model.predict(test_sample)"
      ],
      "execution_count": null,
      "outputs": []
    },
    {
      "cell_type": "code",
      "metadata": {
        "id": "9dE8CVJ3-KWw"
      },
      "source": [
        "pred_train = scaler.inverse_transform(predictions_train.reshape(-1,1))\n",
        "y_act_train = scaler.inverse_transform(y_train_LSTM)\n",
        "\n",
        "pred_val = scaler.inverse_transform(predictions_val.reshape(-1,1))\n",
        "y_act_val = scaler.inverse_transform(y_val_LSTM)\n",
        "\n",
        "pred_test = scaler.inverse_transform(predictions_test.reshape(-1,1))\n",
        "y_act_test = scaler.inverse_transform(y_test_LSTM)"
      ],
      "execution_count": 39,
      "outputs": []
    },
    {
      "cell_type": "code",
      "metadata": {
        "colab": {
          "base_uri": "https://localhost:8080/",
          "height": 500
        },
        "id": "uVnrzASH-KWw",
        "outputId": "4b7cb375-c7a2-4fa2-ee05-460d788d3f87"
      },
      "source": [
        "plt.plot(pred_train,'-b')\n",
        "plt.plot(y_act_train,'-r')"
      ],
      "execution_count": 41,
      "outputs": [
        {
          "output_type": "execute_result",
          "data": {
            "text/plain": [
              "[<matplotlib.lines.Line2D at 0x7f8ae6a12358>]"
            ]
          },
          "metadata": {
            "tags": []
          },
          "execution_count": 41
        },
        {
          "output_type": "display_data",
          "data": {
            "image/png": "[encoded data removed]",
            "text/plain": [
              "<Figure size 1152x576 with 1 Axes>"
            ]
          },
          "metadata": {
            "tags": [],
            "needs_background": "light"
          }
        }
      ]
    },
    {
      "cell_type": "code",
      "metadata": {
        "id": "1rVuiqyy-KWx",
        "colab": {
          "base_uri": "https://localhost:8080/",
          "height": 500
        },
        "outputId": "cba50477-90be-433c-92c4-a5b4aa221710"
      },
      "source": [
        "sns.distplot(pred_train-y_act_train)"
      ],
      "execution_count": 42,
      "outputs": [
        {
          "output_type": "execute_result",
          "data": {
            "text/plain": [
              "<matplotlib.axes._subplots.AxesSubplot at 0x7f8ae6a12828>"
            ]
          },
          "metadata": {
            "tags": []
          },
          "execution_count": 42
        },
        {
          "output_type": "display_data",
          "data": {
            "image/png": "[encoded data removed]",
            "text/plain": [
              "<Figure size 1152x576 with 1 Axes>"
            ]
          },
          "metadata": {
            "tags": [],
            "needs_background": "light"
          }
        }
      ]
    },
    {
      "cell_type": "code",
      "metadata": {
        "colab": {
          "base_uri": "https://localhost:8080/",
          "height": 500
        },
        "id": "A2Y3nSXC-KWx",
        "outputId": "70ce8dab-f1fe-469d-e687-0cbc13af8db5"
      },
      "source": [
        "plt.plot(pred_val,'-b')\n",
        "plt.plot(y_act_val,'-r')"
      ],
      "execution_count": 43,
      "outputs": [
        {
          "output_type": "execute_result",
          "data": {
            "text/plain": [
              "[<matplotlib.lines.Line2D at 0x7f8aebf0f080>]"
            ]
          },
          "metadata": {
            "tags": []
          },
          "execution_count": 43
        },
        {
          "output_type": "display_data",
          "data": {
            "image/png": "[encoded data removed]",
            "text/plain": [
              "<Figure size 1152x576 with 1 Axes>"
            ]
          },
          "metadata": {
            "tags": [],
            "needs_background": "light"
          }
        }
      ]
    },
    {
      "cell_type": "code",
      "metadata": {
        "colab": {
          "base_uri": "https://localhost:8080/",
          "height": 500
        },
        "id": "OmB2shQd-KWx",
        "outputId": "a25c9162-3bd7-4f44-ee28-a08c19ee4e75"
      },
      "source": [
        "plt.plot(pred_test,'-b')\n",
        "plt.plot(y_act_test,'-r')"
      ],
      "execution_count": 44,
      "outputs": [
        {
          "output_type": "execute_result",
          "data": {
            "text/plain": [
              "[<matplotlib.lines.Line2D at 0x7f8ae96c5240>]"
            ]
          },
          "metadata": {
            "tags": []
          },
          "execution_count": 44
        },
        {
          "output_type": "display_data",
          "data": {
            "image/png": "[encoded data removed]",
            "text/plain": [
              "<Figure size 1152x576 with 1 Axes>"
            ]
          },
          "metadata": {
            "tags": [],
            "needs_background": "light"
          }
        }
      ]
    },
    {
      "cell_type": "code",
      "metadata": {
        "id": "R09M24GT-KWy"
      },
      "source": [
        "df2 = pd.concat((pd.DataFrame(y_act_train),pd.DataFrame(pred_train)),axis =1)\n",
        "df2.columns = ['train_act','train_pred']"
      ],
      "execution_count": null,
      "outputs": []
    },
    {
      "cell_type": "code",
      "metadata": {
        "id": "Ij_uDA3g-KWy"
      },
      "source": [
        "df3 = pd.concat((pd.DataFrame(y_act_test),pd.DataFrame(pred_test)),axis =1)\n",
        "df3.columns = ['test_act','test_pred']"
      ],
      "execution_count": null,
      "outputs": []
    },
    {
      "cell_type": "code",
      "metadata": {
        "id": "SkbrmH9v-KWy",
        "outputId": "c681e362-b924-48fa-b2d5-b90c7d3da77d"
      },
      "source": [
        "sns.scatterplot(x='train_act',y='train_pred',data = df2)"
      ],
      "execution_count": null,
      "outputs": [
        {
          "output_type": "display_data",
          "data": {
            "text/plain": [
              "<AxesSubplot:xlabel='train_act', ylabel='train_pred'>"
            ],
            "image/png": "[encoded data removed]"
          },
          "metadata": {
            "tags": [],
            "image/png": {
              "width": 0,
              "height": 0
            }
          }
        }
      ]
    },
    {
      "cell_type": "code",
      "metadata": {
        "id": "HYM-1NsH-KWy",
        "outputId": "23c45e0e-b88b-47bc-a15a-fcc1793640b7"
      },
      "source": [
        "sns.scatterplot(x='test_act',y='test_pred',data = df3,palette='bright',alpha=1)"
      ],
      "execution_count": null,
      "outputs": [
        {
          "output_type": "display_data",
          "data": {
            "text/plain": [
              "<AxesSubplot:xlabel='test_act', ylabel='test_pred'>"
            ],
            "image/png": "[encoded data removed]"
          },
          "metadata": {
            "tags": [],
            "image/png": {
              "width": 0,
              "height": 0
            }
          }
        }
      ]
    },
    {
      "cell_type": "code",
      "metadata": {
        "id": "IsJ0ARM0-KWy",
        "outputId": "58fe6a1a-dd28-499a-9921-03f4eff82bca"
      },
      "source": [
        "line(df3['test_act']-df3['test_pred'])"
      ],
      "execution_count": null,
      "outputs": [
        {
          "output_type": "display_data",
          "data": {
            "text/plain": [
              "Unsupported"
            ]
          },
          "metadata": {
            "tags": []
          }
        }
      ]
    },
    {
      "cell_type": "code",
      "metadata": {
        "id": "mVSCSWjp-KWz"
      },
      "source": [
        "# DNN feedforward network \n",
        "def DNN(X):\n",
        "    np.random.seed(1)\n",
        "    model1 = Sequential()\n",
        "\n",
        "    model1.add(Dense(3,activation='tanh',kernel_initializer = 'glorot_uniform',bias_initializer = 'zeros',input_dim=X.shape[1]))\n",
        "\n",
        "    model1.add(Dense(512,activation='tanh',kernel_initializer = 'glorot_uniform',bias_initializer = 'zeros'))\n",
        "\n",
        "    model1.add(Dense(256,activation='tanh',kernel_initializer = 'glorot_uniform',bias_initializer = 'zeros'))\n",
        "\n",
        "    model1.add(Dense(100,activation='tanh',kernel_initializer = 'glorot_uniform',bias_initializer = 'zeros'))\n",
        "\n",
        "    model1.add(Dense(10,activation='tanh',kernel_initializer = 'glorot_uniform',bias_initializer = 'zeros'))\n",
        "    \n",
        "    model1.add(Dense(1,activation='linear',kernel_initializer = 'glorot_uniform',bias_initializer = 'zeros'))\n",
        "    \n",
        "    model1.compile(loss='mse', optimizer=Adam(lr=0.000001))\n",
        "\n",
        "    es = EarlyStopping(monitor='val_loss', mode='min', verbose=1,patience=10)\n",
        "    \n",
        "    history = model1.fit(x_train_scaled,y_train_scaled,batch_size = 32, epochs = 100,validation_data = (x_test_scaled,y_test_scaled),verbose = 1,shuffle = False,callbacks=[es])\n",
        "    \n",
        "    plt.plot(history.history['loss'],label ='train')\n",
        "    plt.plot(history.history['val_loss'],label = 'val loss')\n",
        "    \n",
        "    \n",
        "    return model1\n"
      ],
      "execution_count": null,
      "outputs": []
    },
    {
      "cell_type": "code",
      "metadata": {
        "id": "0RuObj0D-KWz"
      },
      "source": [
        "model1 = DNN(x_train_scaled)\n",
        "model1.save_weights(\"model.h5\")"
      ],
      "execution_count": null,
      "outputs": []
    },
    {
      "cell_type": "code",
      "metadata": {
        "id": "nqnIKdqd-KW0"
      },
      "source": [
        "predictions_train = model1.predict(x_train_scaled);\n",
        "R2 = r2_score(y_train_scaled,predictions_train)\n",
        "print(R2)\n",
        "\n",
        "predictions_test = model1.predict(x_test_scaled);\n",
        "R2 = r2_score(y_test_scaled,predictions_test)\n",
        "print(R2)\n",
        "\n",
        "pred_train = scaler.inverse_transform(predictions_train)\n",
        "y_act_train = scaler.inverse_transform(y_train_scaled)\n",
        "\n",
        "pred_test = scaler.inverse_transform(predictions_test)\n",
        "y_act_test = scaler.inverse_transform(y_test_scaled)\n",
        "\n",
        "\n",
        "                         \n",
        "plt.plot(pred_train)\n",
        "plt.plot(y_act_train)"
      ],
      "execution_count": null,
      "outputs": []
    },
    {
      "cell_type": "code",
      "metadata": {
        "id": "iLmuoRzi-KW0"
      },
      "source": [
        "plt.plot(pred_test)\n",
        "plt.plot(y_act_test)"
      ],
      "execution_count": null,
      "outputs": []
    }
  ]
}